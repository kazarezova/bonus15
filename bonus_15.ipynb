{
 "cells": [
  {
   "cell_type": "markdown",
   "metadata": {},
   "source": [
    "Вдохновившись примером Эйлера, Иван начал случайно блуждатьпо мостам Кёнигсберга: находясь в очередной вершинесоответствующего графа, Иван случайно выбирает следующуювершину. Найти среднюю долю времени, которую Иван проведет вкаждой из вершин графа (путь начинается из случайной вершины,Иван сделал 100500 итераций)."
   ]
  },
  {
   "cell_type": "code",
   "execution_count": 8,
   "metadata": {},
   "outputs": [
    {
     "name": "stdout",
     "output_type": "stream",
     "text": [
      "{'top': 0.21307462686567163, 'left': 0.3570547263681592, 'right': 0.21369154228855722, 'bottom': 0.21617910447761193}\n"
     ]
    }
   ],
   "source": [
    "import random\n",
    "\n",
    "graph={\n",
    "    'top':['left','left','right'],\n",
    "    'left':['top','top','right','bottom','bottom'],\n",
    "    'right':['top','left','bottom'],\n",
    "    'bottom':['left','left','right']\n",
    "}\n",
    "count={'top':0,'left':0,'right':0,'bottom':0}\n",
    "ivan_is_in='top'\n",
    "for i in range(100500):\n",
    "    count[ivan_is_in]+=1\n",
    "    next_step=random.choice(graph[ivan_is_in])\n",
    "    ivan_is_in=next_step\n",
    "\n",
    "for vertex in count:\n",
    "    count[vertex]/=100500\n",
    "print(count)\n",
    "\n",
    "# объяснение: число ребер, соединенных с вершиной/ 2*общее число ребер"
   ]
  },
  {
   "cell_type": "code",
   "execution_count": null,
   "metadata": {},
   "outputs": [],
   "source": []
  }
 ],
 "metadata": {
  "kernelspec": {
   "display_name": "Python 3",
   "language": "python",
   "name": "python3"
  },
  "language_info": {
   "codemirror_mode": {
    "name": "ipython",
    "version": 3
   },
   "file_extension": ".py",
   "mimetype": "text/x-python",
   "name": "python",
   "nbconvert_exporter": "python",
   "pygments_lexer": "ipython3",
   "version": "3.7.4"
  }
 },
 "nbformat": 4,
 "nbformat_minor": 2
}
